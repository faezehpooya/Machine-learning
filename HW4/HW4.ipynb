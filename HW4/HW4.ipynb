{
 "cells": [
  {
   "cell_type": "code",
   "execution_count": 1,
   "metadata": {},
   "outputs": [
    {
     "name": "stdout",
     "output_type": "stream",
     "text": [
      "<class 'pandas.core.frame.DataFrame'>\n",
      "RangeIndex: 1436 entries, 0 to 1435\n",
      "Data columns (total 37 columns):\n",
      " #   Column             Non-Null Count  Dtype \n",
      "---  ------             --------------  ----- \n",
      " 0   Price              1436 non-null   int64 \n",
      " 1   Age_08_04          1436 non-null   int64 \n",
      " 2   Mfg_Month          1436 non-null   int64 \n",
      " 3   Mfg_Year           1436 non-null   int64 \n",
      " 4   KM                 1436 non-null   int64 \n",
      " 5   Fuel_Type          1436 non-null   object\n",
      " 6   HP                 1436 non-null   int64 \n",
      " 7   Met_Color          1436 non-null   int64 \n",
      " 8   Color              1436 non-null   object\n",
      " 9   Automatic          1436 non-null   int64 \n",
      " 10  CC                 1436 non-null   int64 \n",
      " 11  Doors              1436 non-null   int64 \n",
      " 12  Cylinders          1436 non-null   int64 \n",
      " 13  Gears              1436 non-null   int64 \n",
      " 14  Quarterly_Tax      1436 non-null   int64 \n",
      " 15  Weight             1436 non-null   int64 \n",
      " 16  Mfr_Guarantee      1436 non-null   int64 \n",
      " 17  BOVAG_Guarantee    1436 non-null   int64 \n",
      " 18  Guarantee_Period   1436 non-null   int64 \n",
      " 19  ABS                1436 non-null   int64 \n",
      " 20  Airbag_1           1436 non-null   int64 \n",
      " 21  Airbag_2           1436 non-null   int64 \n",
      " 22  Airco              1436 non-null   int64 \n",
      " 23  Automatic_airco    1436 non-null   int64 \n",
      " 24  Boardcomputer      1436 non-null   int64 \n",
      " 25  CD_Player          1436 non-null   int64 \n",
      " 26  Central_Lock       1436 non-null   int64 \n",
      " 27  Powered_Windows    1436 non-null   int64 \n",
      " 28  Power_Steering     1436 non-null   int64 \n",
      " 29  Radio              1436 non-null   int64 \n",
      " 30  Mistlamps          1436 non-null   int64 \n",
      " 31  Sport_Model        1436 non-null   int64 \n",
      " 32  Backseat_Divider   1436 non-null   int64 \n",
      " 33  Metallic_Rim       1436 non-null   int64 \n",
      " 34  Radio_cassette     1436 non-null   int64 \n",
      " 35  Parking_Assistant  1436 non-null   int64 \n",
      " 36  Tow_Bar            1436 non-null   int64 \n",
      "dtypes: int64(35), object(2)\n",
      "memory usage: 415.2+ KB\n",
      "None\n"
     ]
    }
   ],
   "source": [
    "import pandas as pd\n",
    "import numpy as np\n",
    "import matplotlib.pyplot as plt\n",
    "\n",
    "raw_df = pd.read_excel('./data/ToyotaCorolla.xls', sheet_name='data')\n",
    "df = raw_df.copy()\n",
    "df.drop(['Id', 'Model'], axis = 1, inplace=True) \n",
    "print(df.info())\n",
    "\n",
    "# Encoding non-numeric features \n",
    "one_hot_encodingpd = pd.get_dummies(list(set(raw_df.Fuel_Type)))\n",
    "df['Fuel_Type'] = df.apply(axis=1, func=lambda x: int(\"\".join(map(str, one_hot_encodingpd[x['Fuel_Type']])), 2))\n",
    "one_hot_encodingpd = pd.get_dummies(list(set(raw_df.Color)))\n",
    "df['Color'] = df.apply(axis=1, func=lambda x: int(\"\".join(map(str, one_hot_encodingpd[x['Color']])), 2))\n",
    "\n",
    "def normalize(x):\n",
    "    mean = x.mean()\n",
    "    var = x.std()\n",
    "    if var != 0.0:\n",
    "        return (x - mean) / var\n",
    "    else:\n",
    "        return x\n",
    "\n",
    "# Rescale df columns to the range 0-1\n",
    "df = df.apply(lambda x: normalize(x))\n",
    "\n",
    "\n",
    "\n",
    "# Divide dataset into 70%, 15% and another %15 for train, validation and test. \n",
    "train_df = df.sample(frac=0.70)\n",
    "validation_df = df.drop(train_df.index).sample(frac=0.5)\n",
    "test_df = df.drop(train_df.index).drop(validation_df.index)\n"
   ]
  },
  {
   "cell_type": "code",
   "execution_count": 1,
   "metadata": {},
   "outputs": [],
   "source": [
    "# SGD Regression  \n",
    "class SGDRegression() : \n",
    "      \n",
    "    def __init__(self, norm=2, learning_rate=0.001, iterations=1000, l2_penality=0) : \n",
    "          \n",
    "        self.learning_rate = learning_rate         \n",
    "        self.iterations = iterations         \n",
    "        self.l2_penality = l2_penality \n",
    "        \n",
    "        self.update_weights = self.norm2_update_weights\n",
    "        if norm == 1:\n",
    "            self.update_weights = self.norm1_update_weights\n",
    "        self.norm = norm\n",
    "\n",
    "          \n",
    "    # Estimate linear regression w* using Stochastic Gradient Descent \n",
    "    def train(self, train_df) : \n",
    "        self.X = np.array(train_df.drop('Price', axis=1))        \n",
    "        self.Y = np.array(train_df['Price']) \n",
    "        \n",
    "        # no_of_training_examples, no_of_features         \n",
    "        self.n, self.m = self.X.shape \n",
    "          \n",
    "        # weight initialization         \n",
    "        self.w = np.zeros(self.m) \n",
    "        self.b = 0    \n",
    "        self.all_w = []\n",
    "        \n",
    "             \n",
    "        # gradient descent learning \n",
    "                  \n",
    "        for i in range(self.iterations) :             \n",
    "            self.update_weights()             \n",
    "        return self\n",
    "    \n",
    "    \n",
    "    # Calculate gradient of MSE loss function w.r.t w \n",
    "    def norm2_update_weights(self):\n",
    "        y_pred = self.predict(self.X)\n",
    "\n",
    "        dw = (- 2 * (self.X.T).dot(self.Y - y_pred) + \n",
    "                  2 * self.l2_penality * self.w) / self.n     \n",
    "        db = - 2 * np.sum(self.Y - y_pred) / self.n \n",
    "        \n",
    "        # update weights     \n",
    "        self.w = self.w - self.learning_rate * dw     \n",
    "        self.b = self.b - self.learning_rate * db  \n",
    "        \n",
    "        self.all_w.append(np.concatenate((np.array([self.b]), self.w), axis=0))\n",
    "        \n",
    "        return self\n",
    "    \n",
    "    # Calculate gradient of  ||Y − Xω||1  loss function w.r.t w        \n",
    "    def norm1_update_weights(self):\n",
    "        y_pred = self.predict(self.X)\n",
    "\n",
    "        dw = (- (self.X.T).dot(np.sign(self.Y - y_pred)) + \n",
    "                  2 * self.l2_penality * self.w) / self.n     \n",
    "        db = - np.sum(np.sign(self.Y - y_pred)) / self.n \n",
    "        \n",
    "        # update weights     \n",
    "        self.w = self.w - self.learning_rate * dw     \n",
    "        self.b = self.b - self.learning_rate * db  \n",
    "        \n",
    "        self.all_w.append(np.concatenate((np.array([self.b]), self.w), axis=0))\n",
    "        \n",
    "        return self\n",
    "    \n",
    "    def predict(self, X) :     \n",
    "        return X.dot(self.w) + self.b "
   ]
  },
  {
   "cell_type": "code",
   "execution_count": 2,
   "metadata": {},
   "outputs": [],
   "source": [
    "# Make a prediction with w\n",
    "def predict(X, w, b) :     \n",
    "        return X.dot(w) + b \n",
    "    \n",
    "def mean_squared_error(y_hat, y):\n",
    "    sum_of_squer_error = 0\n",
    "    n = len(y)\n",
    "    for i in range(n):\n",
    "        sum_of_squer_error += (y[i] - y_hat[i])**2\n",
    "    return sum_of_squer_error / n\n",
    "\n",
    "def norm_1_error(y_hat, y):\n",
    "    error = 0\n",
    "    n = len(y)\n",
    "    for i in range(n):\n",
    "        error += abs(y[i] - y_hat[i])\n",
    "    return error / n\n",
    "\n",
    "def calculate_error_per_iter_for_dataset(df, all_w, error_func=mean_squared_error):\n",
    "    x_df = df.drop('Price', axis=1)\n",
    "    x = np.array(x_df)\n",
    "    y = np.array(df['Price'])\n",
    "    \n",
    "    error = []\n",
    "    for iteration in range(len(all_w)):\n",
    "        predictions = predict(x, all_w[iteration][1:], all_w[iteration][0])\n",
    "        error.append(error_func(np.array(predictions), y))\n",
    "        \n",
    "    return error\n",
    "\n",
    "   \n",
    "\n",
    "def train_SGD_regression(train_df, validation_df, norm, λ=0):\n",
    "    learning_rate = 0.1\n",
    "    min_mse_for_validation = 1000\n",
    "    all_W_star = []\n",
    "    for i in range(100):\n",
    "        sgd_regressor = SGDRegression(norm=norm, learning_rate=learning_rate, iterations=100, l2_penality=λ)\n",
    "        sgd_regressor.train(train_df=train_df)\n",
    "        all_w = sgd_regressor.all_w\n",
    "        validation_MSE = calculate_error_per_iter_for_dataset(validation_df, [all_w[-1]])[-1]\n",
    "        if validation_MSE < min_mse_for_validation:\n",
    "            min_mse_for_validation = validation_MSE\n",
    "            all_W_star = all_w\n",
    "        learning_rate -= 0.001\n",
    "    return all_W_star"
   ]
  },
  {
   "cell_type": "code",
   "execution_count": null,
   "metadata": {
    "scrolled": true
   },
   "outputs": [],
   "source": [
    "simple_regressor_using_SGD_all_w = train_SGD_regression(train_df, validation_df, norm=2)\n",
    "validation_MSE1 = calculate_error_per_iter_for_dataset(validation_df, simple_regressor_using_SGD_all_w)\n",
    "test_MSE1 = calculate_error_per_iter_for_dataset(test_df, simple_regressor_using_SGD_all_w)\n",
    "\n",
    "print(\"Result for Q1: train a simple regressor using SGD \")\n",
    "\n",
    "plt.scatter([i for i in range(len(simple_regressor_using_SGD_all_w))], validation_MSE1)\n",
    "plt.xlabel('Iterations')\n",
    "plt.ylabel('Validation MSE')\n",
    "plt.title('MSE per iteration for validation dataset')\n",
    "plt.show()\n",
    "\n",
    "plt.scatter([i for i in range(len(simple_regressor_using_SGD_all_w))], test_MSE1)\n",
    "plt.xlabel('Iterations')\n",
    "plt.ylabel('Test MSE')\n",
    "plt.title('MSE per iteration for test dataset')\n",
    "plt.show()\n",
    "\n",
    "print('Mean Squared Error for test dataset:', test_MSE1[-1])\n",
    "\n",
    "\n"
   ]
  },
  {
   "cell_type": "code",
   "execution_count": 5,
   "metadata": {},
   "outputs": [
    {
     "data": {
      "image/png": "[encoded data removed]",
      "text/plain": [
       "<Figure size 432x288 with 1 Axes>"
      ]
     },
     "metadata": {
      "needs_background": "light"
     },
     "output_type": "display_data"
    }
   ],
   "source": [
    "predictions = test_df.drop('Price', axis=1).apply(axis=1, \n",
    "                                                  func=lambda x: predict(x,\n",
    "                                                                         simple_regressor_using_SGD_all_w[-1][1:], \n",
    "                                                                         simple_regressor_using_SGD_all_w[-1][0]))\n",
    "real_Y = test_df['Price']\n",
    "\n",
    "\n",
    "plt.figure()\n",
    "plt.plot(predictions, real_Y, 'bo', label='Predicted and Target value in test dataset')\n",
    "plt.plot(real_Y, real_Y, 'r-', label='y = x', alpha=0.5)\n",
    "plt.ylabel('Predicted Value')\n",
    "plt.xlabel('Target Value')\n",
    "plt.legend();\n",
    "plt.title('Simple regressor using SGD')\n",
    "plt.show()"
   ]
  },
  {
   "cell_type": "code",
   "execution_count": 6,
   "metadata": {},
   "outputs": [],
   "source": [
    "def ridge_regression(train_df, λ=1):\n",
    "    X = np.array(train_df.drop('Price', axis=1))\n",
    "    y = np.array(train_df['Price'])\n",
    "    \n",
    "    n, m = X.shape\n",
    "    phi = np.concatenate((np.array([np.ones(n)]).T, X), axis=1)    \n",
    "    m += 1\n",
    "    I = np.identity(m)\n",
    "    \n",
    "    w_star = np.dot(np.dot(np.linalg.inv(np.dot(phi.T, phi) + λ * I), phi.T), y)\n",
    "    return w_star"
   ]
  },
  {
   "cell_type": "code",
   "execution_count": 7,
   "metadata": {},
   "outputs": [
    {
     "name": "stdout",
     "output_type": "stream",
     "text": [
      "Result for Q2:\n",
      " - Train a ridge regressor (λ = 1) using SGD:\n",
      "    Mean Squared Error for validation dataset: 0.09229417898645748\n",
      "    Mean Squared Error for test dataset: 0.09195312277418442\n",
      "\n",
      " - Train a ridge regressor (λ = 1) using closed from solution for ridge regression (w∗ = (XTX + λI)−1XTy):\n",
      "    Mean Squared Error for validation dataset: 0.09404920957362553\n",
      "    Mean Squared Error for test dataset: 0.09282015935886964\n"
     ]
    }
   ],
   "source": [
    "ridge_regressor_all_w = train_SGD_regression(train_df, validation_df, norm=2, λ=1)\n",
    "validation_MSE2 = calculate_error_per_iter_for_dataset(validation_df, [ridge_regressor_all_w[-1]])[-1]\n",
    "test_MSE2 = calculate_error_per_iter_for_dataset(test_df, [ridge_regressor_all_w[-1]])[-1]\n",
    "\n",
    "print(\"Result for Q2:\")\n",
    "print(\" - Train a ridge regressor (λ = 1) using SGD:\")\n",
    "print('    Mean Squared Error for validation dataset:', validation_MSE2)\n",
    "print('    Mean Squared Error for test dataset:', test_MSE2)\n",
    "print()\n",
    "print(\" - Train a ridge regressor (λ = 1) using closed from solution for ridge regression (w∗ = (XTX + λI)−1XTy):\")\n",
    "\n",
    "ridge_regressor_w_star = ridge_regression(train_df, 1)\n",
    "ridge_regression_validation_MSE = calculate_error_per_iter_for_dataset(validation_df, [ridge_regressor_w_star])[-1]\n",
    "ridge_regression_test_MSE = calculate_error_per_iter_for_dataset(test_df, [ridge_regressor_w_star])[-1]\n",
    "\n",
    "print('    Mean Squared Error for validation dataset:', ridge_regression_validation_MSE)\n",
    "print('    Mean Squared Error for test dataset:', ridge_regression_test_MSE)"
   ]
  },
  {
   "cell_type": "code",
   "execution_count": 8,
   "metadata": {},
   "outputs": [
    {
     "data": {
      "image/png": "[encoded data removed]",
      "text/plain": [
       "<Figure size 432x288 with 1 Axes>"
      ]
     },
     "metadata": {
      "needs_background": "light"
     },
     "output_type": "display_data"
    }
   ],
   "source": [
    "predictions = test_df.drop('Price', axis=1).apply(axis=1, \n",
    "                                                  func=lambda x: predict(x,\n",
    "                                                                         ridge_regressor_w_star[1:], \n",
    "                                                                         ridge_regressor_w_star[0]))\n",
    "real_Y = test_df['Price']\n",
    "\n",
    "\n",
    "plt.figure()\n",
    "plt.plot(predictions, real_Y, 'bo', label='Predicted and Target value in test dataset')\n",
    "plt.plot(real_Y, real_Y, 'r-', label='y = x', alpha=0.5)\n",
    "plt.ylabel('Predicted Value')\n",
    "plt.xlabel('Target Value')\n",
    "plt.legend();\n",
    "plt.title('Ridge Regressor (λ = 1)')\n",
    "plt.show()"
   ]
  },
  {
   "cell_type": "code",
   "execution_count": 9,
   "metadata": {},
   "outputs": [
    {
     "name": "stdout",
     "output_type": "stream",
     "text": [
      "Result for Q3: train a L1 norm regressor using SGD \n",
      " - MSE error:\n"
     ]
    },
    {
     "data": {
      "image/png": "[encoded data removed]",
      "text/plain": [
       "<Figure size 432x288 with 1 Axes>"
      ]
     },
     "metadata": {
      "needs_background": "light"
     },
     "output_type": "display_data"
    },
    {
     "data": {
      "image/png": "[encoded data removed]",
      "text/plain": [
       "<Figure size 432x288 with 1 Axes>"
      ]
     },
     "metadata": {
      "needs_background": "light"
     },
     "output_type": "display_data"
    },
    {
     "name": "stdout",
     "output_type": "stream",
     "text": [
      "    Mean Squared Error for test dataset: 0.10083529589594038\n",
      "\n",
      " - L1 norm error:\n"
     ]
    },
    {
     "data": {
      "image/png": "[encoded data removed]",
      "text/plain": [
       "<Figure size 432x288 with 1 Axes>"
      ]
     },
     "metadata": {
      "needs_background": "light"
     },
     "output_type": "display_data"
    },
    {
     "data": {
      "image/png": "[encoded data removed]",
      "text/plain": [
       "<Figure size 432x288 with 1 Axes>"
      ]
     },
     "metadata": {
      "needs_background": "light"
     },
     "output_type": "display_data"
    },
    {
     "name": "stdout",
     "output_type": "stream",
     "text": [
      "    L1 norm error for test dataset: 0.2349778677593287\n"
     ]
    }
   ],
   "source": [
    "l1_norm_regressor_using_SGD_all_w = train_SGD_regression(train_df, validation_df, norm=1)\n",
    "validation_MSE3 = calculate_error_per_iter_for_dataset(validation_df, l1_norm_regressor_using_SGD_all_w)\n",
    "test_MSE3 = calculate_error_per_iter_for_dataset(test_df, l1_norm_regressor_using_SGD_all_w)\n",
    "\n",
    "print(\"Result for Q3: train a L1 norm regressor using SGD \")\n",
    "\n",
    "print(\" - MSE error:\")\n",
    "\n",
    "plt.scatter([i for i in range(len(l1_norm_regressor_using_SGD_all_w))], validation_MSE3)\n",
    "plt.xlabel('Iterations')\n",
    "plt.ylabel('Validation MSE')\n",
    "plt.title('MSE per iteration for validation dataset')\n",
    "plt.show()\n",
    "\n",
    "plt.scatter([i for i in range(len(l1_norm_regressor_using_SGD_all_w))], test_MSE3)\n",
    "plt.xlabel('Iterations')\n",
    "plt.ylabel('Test MSE')\n",
    "plt.title('MSE per iteration for test dataset')\n",
    "plt.show()\n",
    "\n",
    "print('    Mean Squared Error for test dataset:', test_MSE3[-1])\n",
    "print()\n",
    "\n",
    "\n",
    "validation_l1_norm_error = calculate_error_per_iter_for_dataset(validation_df, l1_norm_regressor_using_SGD_all_w, \n",
    "                                                                error_func=norm_1_error)\n",
    "test_l1_norm_error = calculate_error_per_iter_for_dataset(test_df, l1_norm_regressor_using_SGD_all_w, \n",
    "                                                          error_func=norm_1_error)\n",
    "\n",
    "print(\" - L1 norm error:\")\n",
    "\n",
    "plt.scatter([i for i in range(len(l1_norm_regressor_using_SGD_all_w))], validation_l1_norm_error)\n",
    "plt.xlabel('Iterations')\n",
    "plt.ylabel('Validation L1 Norm Error')\n",
    "plt.title('L1 norm error per iteration for validation dataset')\n",
    "plt.show()\n",
    "\n",
    "plt.scatter([i for i in range(len(l1_norm_regressor_using_SGD_all_w))], test_l1_norm_error)\n",
    "plt.xlabel('Iterations')\n",
    "plt.ylabel('Test L1 Norm Error')\n",
    "plt.title('L1 norm error per iteration for test dataset')\n",
    "plt.show()\n",
    "\n",
    "print('    L1 norm error for test dataset:', test_l1_norm_error[-1])"
   ]
  },
  {
   "cell_type": "code",
   "execution_count": 10,
   "metadata": {},
   "outputs": [
    {
     "data": {
      "image/png": "[encoded data removed]",
      "text/plain": [
       "<Figure size 432x288 with 1 Axes>"
      ]
     },
     "metadata": {
      "needs_background": "light"
     },
     "output_type": "display_data"
    }
   ],
   "source": [
    "predictions = test_df.drop('Price', axis=1).apply(axis=1, \n",
    "                                                  func=lambda x: predict(x,\n",
    "                                                                         l1_norm_regressor_using_SGD_all_w[-1][1:], \n",
    "                                                                         l1_norm_regressor_using_SGD_all_w[-1][0]))\n",
    "real_Y = test_df['Price']\n",
    "\n",
    "\n",
    "plt.figure()\n",
    "plt.plot(predictions, real_Y, 'bo', label='Predicted and Target value in test dataset')\n",
    "plt.plot(real_Y, real_Y, 'r-', label='y = x', alpha=0.5)\n",
    "plt.ylabel('Predicted Value')\n",
    "plt.xlabel('Target Value')\n",
    "plt.legend();\n",
    "plt.title(' L1 norm regressor using SGD')\n",
    "plt.show()"
   ]
  },
  {
   "cell_type": "code",
   "execution_count": 20,
   "metadata": {},
   "outputs": [
    {
     "name": "stdout",
     "output_type": "stream",
     "text": [
      "Result for Q4: Compare regressors of part 1 and 3 by investigating weights of the model:\n",
      " weights of model part 1:\n",
      "[-1.94403559e-04 -2.89598350e-01 -2.65071608e-02  2.96150854e-01\n",
      " -1.89796740e-01  1.03278354e-01  6.98086027e-02 -6.83366401e-03\n",
      " -7.84710323e-03  2.37832191e-02 -9.75044332e-03  4.07125089e-03\n",
      " -7.77614237e-04  8.63002457e-03  1.38624496e-01  1.78166715e-01\n",
      "  3.17701188e-02  3.64831765e-02  6.95782800e-02 -3.48866374e-02\n",
      "  6.55387081e-04  2.37699620e-03  3.33949464e-02  1.55208473e-01\n",
      " -2.77120433e-02  3.06466113e-02 -3.68875819e-03  5.31554697e-02\n",
      " -1.13192565e-03  5.40669042e-03 -7.26650726e-03  3.17168310e-02\n",
      " -2.49924438e-02  1.83401860e-02 -1.77118337e-02 -1.33210758e-02\n",
      " -2.05966439e-02]\n",
      "\n",
      " weights of model part 3:\n",
      "[-1.07462687e-04 -2.70468458e-01 -3.24863330e-02  2.77990475e-01\n",
      " -1.86267475e-01  7.73414054e-02  2.64477033e-02 -1.54389672e-02\n",
      "  3.18985719e-03  2.78939125e-02 -4.86512831e-03  4.34660144e-03\n",
      " -4.29850746e-04  1.34115479e-02  8.46499662e-02  1.95632350e-01\n",
      "  3.46063199e-02  1.92811013e-02  4.90846507e-02 -1.85248586e-02\n",
      "  2.53149810e-03 -1.49468420e-02  5.24326470e-02  1.57644834e-01\n",
      " -2.40501252e-03  4.19000872e-02  7.20022894e-03  5.41435136e-02\n",
      " -9.47740605e-03 -1.32364191e-03 -2.77175729e-02  1.62432641e-02\n",
      " -1.24428826e-02  2.32163646e-02 -1.48822854e-02 -1.42621351e-02\n",
      " -2.82321013e-02]\n",
      "\n",
      " Weights of model part 1 are greater than weights of model part 3.\n",
      "  The total difference is: 0.09372341920750722\n",
      "\n",
      " Mean Squared Error for train dataset:\n",
      "  - with model part 1 : 0.09223404254107302\n",
      "  - with model part 3 : 0.09717991470961194\n",
      " Mean Squared Error for validation dataset:\n",
      "  - with model part 1 : 0.092315568850223\n",
      "  - with model part 3 : 0.09226157528207671\n",
      " Mean Squared Error for test dataset:\n",
      "  - with model part 1 : 0.09195689581922428\n",
      "  - with model part 3 : 0.10083529589594038\n",
      "\n"
     ]
    }
   ],
   "source": [
    "print(\"Result for Q4: Compare regressors of part 1 and 3 by investigating weights of the model:\")\n",
    "\n",
    "simple_regressor_using_SGD_w_star = simple_regressor_using_SGD_all_w[-1]\n",
    "l1_norm_regressor_using_SGD_w_star = l1_norm_regressor_using_SGD_all_w[-1]\n",
    "\n",
    "print(\" weights of model part 1:\")\n",
    "print(simple_regressor_using_SGD_w_star)\n",
    "print()\n",
    "print(\" weights of model part 3:\")\n",
    "print(l1_norm_regressor_using_SGD_w_star)\n",
    "print()\n",
    "\n",
    "difference = np.sum(simple_regressor_using_SGD_w_star - l1_norm_regressor_using_SGD_w_star)\n",
    "if difference > 0:\n",
    "    print(\" Weights of model part 1 are greater than weights of model part 3.\")\n",
    "    print(\"  The total difference is:\", difference)\n",
    "print()\n",
    "\n",
    "train_MSE1 = calculate_error_per_iter_for_dataset(train_df, [simple_regressor_using_SGD_w_star])\n",
    "train_MSE3 = calculate_error_per_iter_for_dataset(train_df, [l1_norm_regressor_using_SGD_w_star])\n",
    "\n",
    "print(' Mean Squared Error for train dataset:')\n",
    "print('  - with model part 1 :', train_MSE1[-1])\n",
    "print('  - with model part 3 :', train_MSE3[-1])\n",
    "print(' Mean Squared Error for validation dataset:')\n",
    "print('  - with model part 1 :', validation_MSE1[-1])\n",
    "print('  - with model part 3 :', validation_MSE3[-1])\n",
    "print(' Mean Squared Error for test dataset:')\n",
    "print('  - with model part 1 :', test_MSE1[-1])\n",
    "print('  - with model part 3 :', test_MSE3[-1])\n",
    "print()\n",
    "\n",
    "if validation_MSE3[-1] < validation_MSE1[-1] and test_MSE3[-1] < test_MSE1[-1]:\n",
    "    print(' It seems that model part 3, gradient of ||Y −Xω||1, works better for validation and test dataset.')\n",
    "    if train_MSE1[-1] < train_MSE3[-1]:\n",
    "        print(' and model part 1 have smaller MSE on train dataset. model 1 fits more on train data, compared to model 3.')        \n",
    "elif validation_MSE1[-1] < validation_MSE3[-1] and test_MSE1[-1] < test_MSE3[-1]:\n",
    "    print(' It seems that model part 1, gradient of MSE, works better for validation and test dataset.')\n",
    "    if train_MSE1[-1] < train_MSE3[-1]:\n",
    "        print(' and model part 3 have smaller MSE on train dataset. model 3 fits more on train data, compared to model 1.')"
   ]
  },
  {
   "cell_type": "code",
   "execution_count": 19,
   "metadata": {},
   "outputs": [
    {
     "name": "stdout",
     "output_type": "stream",
     "text": [
      "Result for Q4: seting λ to zero\n",
      " Train a ridge regressor (λ = 0) using closed from solution for ordinary linear regression (w∗ = (XTX)−1XTy):\n",
      " - Mean Squared Error for validation dataset: 0.20630254310301696\n",
      "    with λ = 1, the MSE for validation set is: 0.09404920957362553\n",
      "\n",
      " - Mean Squared Error for test dataset: 0.1824429238534045\n",
      "    with λ = 1, the MSE for test set is: 0.09282015935886964\n"
     ]
    }
   ],
   "source": [
    "print(\"Result for Q4: seting λ to zero\")\n",
    "print(\" Train a ridge regressor (λ = 0) using closed from solution for ordinary linear regression \\\n",
    "(w∗ = (XTX)−1XTy):\")\n",
    "\n",
    "ridge_regressor_w_star_lambda0 = ridge_regression(train_df, 0)\n",
    "ridge_regression_lambda0_validation_MSE = calculate_error_per_iter_for_dataset(validation_df, \n",
    "                                                                               [ridge_regressor_w_star_lambda0])[-1]\n",
    "ridge_regression_lambda0_test_MSE = calculate_error_per_iter_for_dataset(test_df, [ridge_regressor_w_star_lambda0])[-1]\n",
    "\n",
    "print(' - Mean Squared Error for validation dataset:', ridge_regression_lambda0_validation_MSE)\n",
    "print('    with λ = 1, the MSE for validation set is:', ridge_regression_validation_MSE)\n",
    "print()\n",
    "print(' - Mean Squared Error for test dataset:', ridge_regression_lambda0_test_MSE)\n",
    "print('    with λ = 1, the MSE for test set is:', ridge_regression_test_MSE)\n"
   ]
  },
  {
   "cell_type": "code",
   "execution_count": null,
   "metadata": {},
   "outputs": [],
   "source": []
  }
 ],
 "metadata": {
  "kernelspec": {
   "display_name": "Python 3",
   "language": "python",
   "name": "python3"
  },
  "language_info": {
   "codemirror_mode": {
    "name": "ipython",
    "version": 3
   },
   "file_extension": ".py",
   "mimetype": "text/x-python",
   "name": "python",
   "nbconvert_exporter": "python",
   "pygments_lexer": "ipython3",
   "version": "3.8.5"
  }
 },
 "nbformat": 4,
 "nbformat_minor": 4
}
