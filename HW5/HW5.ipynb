{
 "cells": [
  {
   "cell_type": "code",
   "execution_count": 216,
   "metadata": {},
   "outputs": [],
   "source": [
    "import time\n",
    "import numpy as np\n",
    "import matplotlib as mpl\n",
    "import pandas as pd\n",
    "from matplotlib import pyplot as plt\n",
    "from sklearn.datasets import load_iris\n",
    "from sklearn.utils import shuffle"
   ]
  },
  {
   "cell_type": "code",
   "execution_count": 217,
   "metadata": {},
   "outputs": [],
   "source": [
    "def plot_misclassiﬁeds_per_iter(clf):\n",
    "    plt.plot(range(1, len(clf.misclassifieds) + 1), clf.misclassifieds, marker='.')\n",
    "    plt.title(\"Number of misclassiﬁed samples per iteration\")\n",
    "    plt.xlabel(\"Iterations\")\n",
    "    plt.ylabel(\"Number of misclassiﬁed samples\")\n",
    "    plt.show()\n",
    "\n",
    "def print_accuracy(clf, train_X, train_y, test_X, test_y):\n",
    "    print(f\"train accuracy score: {np.sum(train_y == clf.predict(train_X)) / len(train_y)}\")\n",
    "    print(f\"test accuracy score: {np.sum(test_y == clf.predict(test_X)) / len(test_y)}\")\n",
    "    \n",
    "def print_confusion_matrix1(clf, test_X, test_y):    \n",
    "    predicts = clf.predict(test_X)\n",
    "    test_confusion_matrix = [[0 for i in range(2)] for j in range(2)]\n",
    "    for i in range(len(test_y)):\n",
    "        t = test_y[i]\n",
    "        if t == predicts[i]:\n",
    "            c = int(np.where(t == -1, 0, 1))\n",
    "            test_confusion_matrix[c][c] += 1\n",
    "        else:\n",
    "            c = int(np.where(t == -1, 0, 1))\n",
    "            p = int(np.where(predicts[i] == -1, 0, 1))\n",
    "            test_confusion_matrix[c][p] += 1\n",
    "    df = pd.DataFrame(test_confusion_matrix, columns=['Predict 0', 'Predict 1'], \n",
    "                      index=['Class 0', 'Class 1'])\n",
    "    print(\"Confusion Matrix on test data:\\n\")\n",
    "    print(df)\n",
    "\n",
    "def show_result1(clf, train_X, train_y, test_X, test_y):\n",
    "    plot_misclassiﬁeds_per_iter(clf)\n",
    "    print_accuracy(clf, train_X, train_y, test_X, test_y)\n",
    "    print()\n",
    "    print_confusion_matrix1(clf, test_X, test_y)\n",
    "    print(\"\\n_______________________\\n\\n\")"
   ]
  },
  {
   "cell_type": "code",
   "execution_count": 218,
   "metadata": {},
   "outputs": [],
   "source": [
    "class Perceptron(object):\n",
    "    def __init__(self, learning_rate=0.01, maxiter=100, random_state=1):\n",
    "        self.learning_rate = learning_rate\n",
    "        self.n_iter = maxiter\n",
    "        self.random_state = random_state\n",
    "        \n",
    "    def fit(self, X, y):\n",
    "        rand = np.random.RandomState(self.random_state)\n",
    "        self.w = np.zeros(1 +  X.shape[1])\n",
    "        self.misclassifieds = []\n",
    "        \n",
    "        for _ in range(self.n_iter):\n",
    "            errors = 0\n",
    "            for x, target in zip(X, y):\n",
    "                update = self.learning_rate * (target - self.predict(x)) / 2 \n",
    "                self.w[1:] += update * x\n",
    "                self.w[0] += update\n",
    "                errors += int(update != 0.0)\n",
    "            self.misclassifieds.append(errors)\n",
    "        return self\n",
    "    \n",
    "    def net_input(self, X):\n",
    "        z = np.dot(X, self.w[1:]) + self.w[0]\n",
    "        return z\n",
    "    \n",
    "    def predict(self, X):\n",
    "        return np.where(self.net_input(X) >= 0, 1, -1)"
   ]
  },
  {
   "cell_type": "code",
   "execution_count": 219,
   "metadata": {},
   "outputs": [
    {
     "data": {
      "image/png": "[encoded data removed]",
      "text/plain": [
       "<Figure size 432x288 with 1 Axes>"
      ]
     },
     "metadata": {
      "needs_background": "light"
     },
     "output_type": "display_data"
    },
    {
     "name": "stdout",
     "output_type": "stream",
     "text": [
      "train accuracy score: 1.0\n",
      "test accuracy score: 1.0\n",
      "\n",
      "Confusion Matrix on test data:\n",
      "\n",
      "         Predict 0  Predict 1\n",
      "Class 0          9          0\n",
      "Class 1          0         11\n",
      "\n",
      "_______________________\n",
      "\n",
      "\n"
     ]
    }
   ],
   "source": [
    "# Q1\n",
    "all_X, all_y = load_iris(return_X_y=True)\n",
    "X, y = [], []\n",
    "for i in range(len(all_y)):\n",
    "    if all_y[i] == 0 or all_y[i] == 1:\n",
    "        X.append(all_X[i])\n",
    "        y.append(int(np.where(all_y[i] == 0, -1, 1)))\n",
    "X, y = np.array(X), np.array(y)\n",
    "\n",
    "X, y = shuffle(X, y)\n",
    "\n",
    "train_X, test_X =  X[:int(0.8*len(X))], X[int(0.8*len(X)):]\n",
    "train_y, test_y =  y[:int(0.8*len(y))], y[int(0.8*len(y)):]\n",
    "\n",
    "per_clf = Perceptron(learning_rate=0.1, maxiter=100, random_state=1)\n",
    "per_clf.fit(train_X, train_y)\n",
    "\n",
    "show_result1(per_clf, train_X, train_y, test_X, test_y)"
   ]
  },
  {
   "cell_type": "code",
   "execution_count": 220,
   "metadata": {},
   "outputs": [],
   "source": [
    "def generate_phi(x_set):\n",
    "    linear_phi = [[1] + [x_set.iloc[i, j] for j in range(len(x_set.columns))] for i in range(len(x_set))] \n",
    "    return np.array(linear_phi)\n",
    "\n",
    "\n",
    "def calcPhi(X):\n",
    "    N = len(X)\n",
    "    if len(np.shape(X)) == 1:\n",
    "        d = 1\n",
    "    else:\n",
    "        d = np.shape(X)[1]\n",
    "    Phi = np.zeros((N,d+1))\n",
    "    Phi[:,0] = np.ones(N)\n",
    "    Phi[:,1:] = np.reshape(X, (N,d))\n",
    "    return Phi\n",
    "\n",
    "def calcT(y, C):\n",
    "    N = len(y)\n",
    "    T = np.zeros((N, C))\n",
    "    for c in range(C):\n",
    "        T[:, c] = (y == c)\n",
    "    return T\n",
    "\n",
    "def calcP(W, Phi):\n",
    "    P = np.exp( Phi @ (W.T) )\n",
    "    P = P/np.reshape( np.sum(P, axis= 1), (len(Phi),1)  ) \n",
    "    return P"
   ]
  },
  {
   "cell_type": "code",
   "execution_count": 221,
   "metadata": {},
   "outputs": [],
   "source": [
    "def cost_function(Wvec, Phi, T, lam):\n",
    "    N, M = np.shape(Phi)\n",
    "    C = np.shape(T)[1]\n",
    "    W = np.reshape(Wvec, (C, M))\n",
    "    P = calcP(W, Phi)\n",
    "    J = -1.0/N*np.sum(T*np.log(P)) + lam/(2.0*N)*np.linalg.norm(Wvec)**2\n",
    "    return J\n",
    "\n",
    "def grad_cost_function(Wvec, Phi, T, lam):\n",
    "    N, M = np.shape(Phi)\n",
    "    C = np.shape(T)[1]\n",
    "    W = np.reshape(Wvec, (C, M))\n",
    "    P = calcP(W, Phi)\n",
    "    grad_mat = 1.0/N*((P - T).T) @ Phi + lam/N*W\n",
    "    grad_vec = np.reshape(grad_mat, len(Wvec))\n",
    "    return grad_vec\n",
    "\n",
    "def minimize_GD(errorFunc, w0, grad, learning_rate=0.01, maxiter=1e4, threshold=1e-5):\n",
    "    w = w0\n",
    "    iteration = 0\n",
    "    loss_per_iter = [errorFunc(w0)]\n",
    "    while iteration < maxiter:\n",
    "        wold = w\n",
    "        w = w - learning_rate*grad(w)\n",
    "        iteration += 1\n",
    "        loss_per_iter.append(errorFunc(w))\n",
    "        if abs(errorFunc(w) - errorFunc(wold)) < threshold:\n",
    "            break\n",
    "    success = (iteration < maxiter)\n",
    "    return {'w': w, 'iteration':iteration, 'error':errorFunc(w), 'success':success, 'loss_per_iter':loss_per_iter}"
   ]
  },
  {
   "cell_type": "code",
   "execution_count": 222,
   "metadata": {},
   "outputs": [],
   "source": [
    "class LogisticClassifier:\n",
    "    def __init__(self, C, lam):\n",
    "        self.C = C  # the number of labels\n",
    "        self.lam = lam # regularization parameter\n",
    "        self.W = None\n",
    "        self.loss_per_iter = None  \n",
    "      \n",
    "    # Train Logistic Regression useing Gradient Dessent\n",
    "    def fit(self, X, y, method='NR', learning_rate=0.01, maxiter=1e4, threshold=1e-5, show_message=False):\n",
    "        Phi = calcPhi(X)\n",
    "        T = calcT(y, self.C)\n",
    "        N, M = np.shape(Phi)\n",
    "        \n",
    "        w0 = np.zeros(M*self.C)\n",
    "        time_start = time.time()\n",
    "        result = minimize_GD(errorFunc=lambda w : cost_function(w, Phi, T, self.lam), \n",
    "                          w0=w0, \n",
    "                          grad=lambda w : grad_cost_function(w, Phi, T, self.lam),\n",
    "                          learning_rate=learning_rate,\n",
    "                          maxiter=maxiter,\n",
    "                          threshold=threshold\n",
    "                         )\n",
    "        time_end = time.time()\n",
    "        if show_message:\n",
    "            print(f\"success : {result['success']}\")\n",
    "            print(f\"iteration : {result['iteration']}\")\n",
    "            print(f\"calcualtion time : {time_end - time_start} seconds\")\n",
    "        self.W = np.reshape(result['w'], (self.C, M))\n",
    "        self.loss_per_iter = result['loss_per_iter']\n",
    "        \n",
    "        return result\n",
    "        \n",
    "    def predict_proba(self, X):\n",
    "        return calcP(self.W, calcPhi(X))\n",
    "        \n",
    "    def predict(self, X):\n",
    "        tmp = self.predict_proba(X)\n",
    "        return np.argmax(tmp, axis=1)"
   ]
  },
  {
   "cell_type": "code",
   "execution_count": 223,
   "metadata": {},
   "outputs": [
    {
     "name": "stdout",
     "output_type": "stream",
     "text": [
      "Training data : 120\n",
      "Test data : 30\n",
      "Input dimension : 4\n"
     ]
    }
   ],
   "source": [
    "Iris_dataset = load_iris()\n",
    "\n",
    "X, y = load_iris(return_X_y=True)\n",
    "X, y = shuffle(X, y)\n",
    "\n",
    "train_X, test_X =  X[:int(0.8*len(X))], X[int(0.8*len(X)):]\n",
    "train_y, test_y =  y[:int(0.8*len(y))], y[int(0.8*len(y)):]\n",
    "\n",
    "print(f\"Training data : {len(train_X)}\")\n",
    "print(f\"Test data : {len(test_X)}\")\n",
    "print(f\"Input dimension : {train_X.shape[1]}\")"
   ]
  },
  {
   "cell_type": "code",
   "execution_count": 224,
   "metadata": {},
   "outputs": [],
   "source": [
    "def plot_loss_per_iter(clf):\n",
    "    plt.plot(range(1, len(clf.loss_per_iter) + 1), clf.loss_per_iter)\n",
    "    plt.title(\"Loss Value per Iteration for train dataset\")\n",
    "    plt.xlabel(\"Iterations\")\n",
    "    plt.ylabel(\"Loss\")\n",
    "    plt.show()\n",
    "\n",
    "def print_accuracy(clf, train_X, train_y, test_X, test_y):\n",
    "    print(f\"train accuracy score: {np.sum(train_y == clf.predict(train_X)) / len(train_y)}\")\n",
    "    print(f\"test accuracy score: {np.sum(test_y == clf.predict(test_X)) / len(test_y)}\")\n",
    "    \n",
    "def print_confusion_matrix(clf, test_X, test_y):\n",
    "    predicts = clf.predict(test_X)\n",
    "    test_confusion_matrix = [[0 for i in range(3)] for j in range(3)]\n",
    "    for i in range(len(test_y)):\n",
    "        t = test_y[i]\n",
    "        if t == predicts[i]:\n",
    "            test_confusion_matrix[t][t] += 1\n",
    "        else:\n",
    "            test_confusion_matrix[t][predicts[i]] += 1\n",
    "    df = pd.DataFrame(test_confusion_matrix, columns=['Predict ' + str(i) for i in range(3)], \n",
    "                      index=['Class ' + str(i) for i in range(3)])\n",
    "    print(\"Confusion Matrix on test data:\\n\")\n",
    "    print(df)\n",
    "\n",
    "def show_result(clf, train_X, train_y, test_X, test_y):\n",
    "    plot_loss_per_iter(clf)\n",
    "    print_accuracy(clf, train_X, train_y, test_X, test_y)\n",
    "    print()\n",
    "    print_confusion_matrix(clf, test_X, test_y)\n",
    "    print(\"\\n_______________________\\n\\n\")"
   ]
  },
  {
   "cell_type": "code",
   "execution_count": 225,
   "metadata": {},
   "outputs": [
    {
     "name": "stdout",
     "output_type": "stream",
     "text": [
      "success : True\n",
      "iteration : 7030\n",
      "calcualtion time : 1.2516896724700928 seconds\n"
     ]
    },
    {
     "data": {
      "image/png": "[encoded data removed]",
      "text/plain": [
       "<Figure size 432x288 with 1 Axes>"
      ]
     },
     "metadata": {
      "needs_background": "light"
     },
     "output_type": "display_data"
    },
    {
     "name": "stdout",
     "output_type": "stream",
     "text": [
      "train accuracy score: 0.9833333333333333\n",
      "test accuracy score: 0.9666666666666667\n",
      "\n",
      "Confusion Matrix on test data:\n",
      "\n",
      "         Predict 0  Predict 1  Predict 2\n",
      "Class 0         10          0          0\n",
      "Class 1          0          9          0\n",
      "Class 2          0          1         10\n",
      "\n",
      "_______________________\n",
      "\n",
      "\n"
     ]
    }
   ],
   "source": [
    "# Q2.a\n",
    "clf = LogisticClassifier(C=3, lam=0)\n",
    "clf.fit(train_X, train_y, show_message=True)\n",
    "show_result(clf, train_X, train_y, test_X, test_y)\n"
   ]
  },
  {
   "cell_type": "code",
   "execution_count": 226,
   "metadata": {},
   "outputs": [
    {
     "name": "stdout",
     "output_type": "stream",
     "text": [
      "--> lambda = 0.1\n",
      "success : True\n",
      "iteration : 6370\n",
      "calcualtion time : 1.1140518188476562 seconds\n"
     ]
    },
    {
     "data": {
      "image/png": "[encoded data removed]",
      "text/plain": [
       "<Figure size 432x288 with 1 Axes>"
      ]
     },
     "metadata": {
      "needs_background": "light"
     },
     "output_type": "display_data"
    },
    {
     "name": "stdout",
     "output_type": "stream",
     "text": [
      "train accuracy score: 0.9833333333333333\n",
      "test accuracy score: 1.0\n",
      "\n",
      "Confusion Matrix on test data:\n",
      "\n",
      "         Predict 0  Predict 1  Predict 2\n",
      "Class 0         10          0          0\n",
      "Class 1          0          9          0\n",
      "Class 2          0          0         11\n",
      "\n",
      "_______________________\n",
      "\n",
      "\n",
      "--> lambda = 1.0\n",
      "success : True\n",
      "iteration : 3901\n",
      "calcualtion time : 0.6821780204772949 seconds\n"
     ]
    },
    {
     "data": {
      "image/png": "[encoded data removed]",
      "text/plain": [
       "<Figure size 432x288 with 1 Axes>"
      ]
     },
     "metadata": {
      "needs_background": "light"
     },
     "output_type": "display_data"
    },
    {
     "name": "stdout",
     "output_type": "stream",
     "text": [
      "train accuracy score: 0.975\n",
      "test accuracy score: 1.0\n",
      "\n",
      "Confusion Matrix on test data:\n",
      "\n",
      "         Predict 0  Predict 1  Predict 2\n",
      "Class 0         10          0          0\n",
      "Class 1          0          9          0\n",
      "Class 2          0          0         11\n",
      "\n",
      "_______________________\n",
      "\n",
      "\n",
      "--> lambda = 10.0\n",
      "success : True\n",
      "iteration : 1052\n",
      "calcualtion time : 0.1934797763824463 seconds\n"
     ]
    },
    {
     "data": {
      "image/png": "[encoded data removed]",
      "text/plain": [
       "<Figure size 432x288 with 1 Axes>"
      ]
     },
     "metadata": {
      "needs_background": "light"
     },
     "output_type": "display_data"
    },
    {
     "name": "stdout",
     "output_type": "stream",
     "text": [
      "train accuracy score: 0.9666666666666667\n",
      "test accuracy score: 0.9666666666666667\n",
      "\n",
      "Confusion Matrix on test data:\n",
      "\n",
      "         Predict 0  Predict 1  Predict 2\n",
      "Class 0         10          0          0\n",
      "Class 1          0          8          1\n",
      "Class 2          0          0         11\n",
      "\n",
      "_______________________\n",
      "\n",
      "\n"
     ]
    }
   ],
   "source": [
    "# Q2.b\n",
    "lams = [0.1, 1.0, 10.0]\n",
    "\n",
    "for lam in lams:\n",
    "    print(f\"--> lambda = {lam}\")\n",
    "    clf = LogisticClassifier(C=3, lam=lam)\n",
    "    clf.fit(train_X, train_y, show_message=True)\n",
    "    show_result(clf, train_X, train_y, test_X, test_y)"
   ]
  },
  {
   "cell_type": "code",
   "execution_count": null,
   "metadata": {},
   "outputs": [],
   "source": []
  }
 ],
 "metadata": {
  "kernelspec": {
   "display_name": "Python 3",
   "language": "python",
   "name": "python3"
  },
  "language_info": {
   "codemirror_mode": {
    "name": "ipython",
    "version": 3
   },
   "file_extension": ".py",
   "mimetype": "text/x-python",
   "name": "python",
   "nbconvert_exporter": "python",
   "pygments_lexer": "ipython3",
   "version": "3.6.12"
  }
 },
 "nbformat": 4,
 "nbformat_minor": 4
}
